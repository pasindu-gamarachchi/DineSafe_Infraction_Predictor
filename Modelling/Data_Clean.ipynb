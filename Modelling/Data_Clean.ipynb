{
 "cells": [
  {
   "cell_type": "code",
   "execution_count": 1,
   "metadata": {},
   "outputs": [],
   "source": [
    "import pandas as pd\n",
    "import numpy as np"
   ]
  },
  {
   "cell_type": "code",
   "execution_count": 2,
   "metadata": {},
   "outputs": [],
   "source": [
    "import os"
   ]
  },
  {
   "cell_type": "code",
   "execution_count": 3,
   "metadata": {},
   "outputs": [
    {
     "data": {
      "text/plain": [
       "['dinesafe.csv',\n",
       " 'Yelp_Businesses.csv',\n",
       " 'dinesafe.xml',\n",
       " 'df_merged_v2.csv',\n",
       " 'Yelp_data_w_est_id.csv',\n",
       " 'Statistical_analysis_data_1.csv',\n",
       " 'Yelp_data_filt_v2.csv',\n",
       " 'ON_bus.json',\n",
       " 'dinesafe_v2.xml',\n",
       " 'ON_bus_v2.json',\n",
       " 'establishment_names.csv',\n",
       " 'Cleaned_Data.csv',\n",
       " 'df_merged.csv']"
      ]
     },
     "execution_count": 3,
     "metadata": {},
     "output_type": "execute_result"
    }
   ],
   "source": [
    "os.listdir('../Data/dataFiles/')"
   ]
  },
  {
   "cell_type": "code",
   "execution_count": 4,
   "metadata": {},
   "outputs": [],
   "source": [
    "dinesafe = pd.read_csv('../Data/dataFiles/dinesafe.csv')"
   ]
  },
  {
   "cell_type": "code",
   "execution_count": 5,
   "metadata": {},
   "outputs": [
    {
     "data": {
      "text/html": [
       "<div>\n",
       "<style scoped>\n",
       "    .dataframe tbody tr th:only-of-type {\n",
       "        vertical-align: middle;\n",
       "    }\n",
       "\n",
       "    .dataframe tbody tr th {\n",
       "        vertical-align: top;\n",
       "    }\n",
       "\n",
       "    .dataframe thead th {\n",
       "        text-align: right;\n",
       "    }\n",
       "</style>\n",
       "<table border=\"1\" class=\"dataframe\">\n",
       "  <thead>\n",
       "    <tr style=\"text-align: right;\">\n",
       "      <th></th>\n",
       "      <th>Unnamed: 0</th>\n",
       "      <th>action</th>\n",
       "      <th>amount_fined</th>\n",
       "      <th>court_outcome</th>\n",
       "      <th>establishment_address</th>\n",
       "      <th>establishment_id</th>\n",
       "      <th>establishment_name</th>\n",
       "      <th>establishment_status</th>\n",
       "      <th>establishment_type</th>\n",
       "      <th>infraction_details</th>\n",
       "      <th>...</th>\n",
       "      <th>row_id</th>\n",
       "      <th>severity</th>\n",
       "      <th>insp_year</th>\n",
       "      <th>insp_month</th>\n",
       "      <th>int_lat</th>\n",
       "      <th>int_long</th>\n",
       "      <th>int_long_lat</th>\n",
       "      <th>new_int_long</th>\n",
       "      <th>new_int_lat</th>\n",
       "      <th>new_long_lat</th>\n",
       "    </tr>\n",
       "  </thead>\n",
       "  <tbody>\n",
       "    <tr>\n",
       "      <th>0</th>\n",
       "      <td>90826</td>\n",
       "      <td>NaN</td>\n",
       "      <td>NaN</td>\n",
       "      <td>NaN</td>\n",
       "      <td>258 DUPONT ST</td>\n",
       "      <td>10638017</td>\n",
       "      <td>nosh</td>\n",
       "      <td>Pass</td>\n",
       "      <td>Restaurant</td>\n",
       "      <td>NaN</td>\n",
       "      <td>...</td>\n",
       "      <td>90827</td>\n",
       "      <td>NaN</td>\n",
       "      <td>2018</td>\n",
       "      <td>6</td>\n",
       "      <td>4.367497e+07</td>\n",
       "      <td>7.940652e+07</td>\n",
       "      <td>1.230815e+08</td>\n",
       "      <td>79406520</td>\n",
       "      <td>43674970</td>\n",
       "      <td>123081490</td>\n",
       "    </tr>\n",
       "    <tr>\n",
       "      <th>1</th>\n",
       "      <td>85159</td>\n",
       "      <td>Notice to Comply</td>\n",
       "      <td>NaN</td>\n",
       "      <td></td>\n",
       "      <td>850 MILLWOOD RD</td>\n",
       "      <td>10604429</td>\n",
       "      <td>avoca chocolatier</td>\n",
       "      <td>Pass</td>\n",
       "      <td>Restaurant</td>\n",
       "      <td>Fail to Produce Most Recent Food Safety Inspec...</td>\n",
       "      <td>...</td>\n",
       "      <td>85160</td>\n",
       "      <td>NA - Not Applicable</td>\n",
       "      <td>2018</td>\n",
       "      <td>6</td>\n",
       "      <td>4.370462e+07</td>\n",
       "      <td>7.936655e+07</td>\n",
       "      <td>1.230712e+08</td>\n",
       "      <td>79366552</td>\n",
       "      <td>43704622</td>\n",
       "      <td>123071174</td>\n",
       "    </tr>\n",
       "  </tbody>\n",
       "</table>\n",
       "<p>2 rows × 25 columns</p>\n",
       "</div>"
      ],
      "text/plain": [
       "   Unnamed: 0            action  amount_fined court_outcome  \\\n",
       "0       90826               NaN           NaN           NaN   \n",
       "1       85159  Notice to Comply           NaN                 \n",
       "\n",
       "  establishment_address  establishment_id establishment_name  \\\n",
       "0        258 DUPONT ST           10638017              nosh    \n",
       "1      850 MILLWOOD RD           10604429  avoca chocolatier   \n",
       "\n",
       "  establishment_status establishment_type  \\\n",
       "0                 Pass         Restaurant   \n",
       "1                 Pass         Restaurant   \n",
       "\n",
       "                                  infraction_details  ... row_id  \\\n",
       "0                                                NaN  ...  90827   \n",
       "1  Fail to Produce Most Recent Food Safety Inspec...  ...  85160   \n",
       "\n",
       "              severity  insp_year  insp_month       int_lat      int_long  \\\n",
       "0                  NaN       2018           6  4.367497e+07  7.940652e+07   \n",
       "1  NA - Not Applicable       2018           6  4.370462e+07  7.936655e+07   \n",
       "\n",
       "   int_long_lat  new_int_long  new_int_lat  new_long_lat  \n",
       "0  1.230815e+08      79406520     43674970     123081490  \n",
       "1  1.230712e+08      79366552     43704622     123071174  \n",
       "\n",
       "[2 rows x 25 columns]"
      ]
     },
     "execution_count": 5,
     "metadata": {},
     "output_type": "execute_result"
    }
   ],
   "source": [
    "dinesafe.head(2)"
   ]
  },
  {
   "cell_type": "code",
   "execution_count": 6,
   "metadata": {},
   "outputs": [],
   "source": [
    "dinesafe['establishment_name'] =dinesafe['establishment_name'].str.lower()\n",
    "dinesafe['establishment_address'] =dinesafe['establishment_address'].str.lower()"
   ]
  },
  {
   "cell_type": "code",
   "execution_count": 7,
   "metadata": {},
   "outputs": [],
   "source": [
    "dinesafe['int_lat'] = dinesafe['latitude']*(10**6)\n",
    "dinesafe['int_lat'] = dinesafe['int_lat'].astype(int)\n",
    "dinesafe['int_long'] = dinesafe['longitude']*-(10**6)\n",
    "dinesafe['int_long'] = dinesafe['int_long'].astype(int)"
   ]
  },
  {
   "cell_type": "code",
   "execution_count": 8,
   "metadata": {},
   "outputs": [
    {
     "name": "stderr",
     "output_type": "stream",
     "text": [
      "/home/pasindu/anaconda3/lib/python3.7/site-packages/IPython/core/interactiveshell.py:3058: DtypeWarning: Columns (53,54,60) have mixed types.Specify dtype option on import or set low_memory=False.\n",
      "  interactivity=interactivity, compiler=compiler, result=result)\n"
     ]
    }
   ],
   "source": [
    "Yelp_data = pd.read_csv('../Data/dataFiles/Yelp_data_filt_v2.csv') \n"
   ]
  },
  {
   "cell_type": "code",
   "execution_count": 9,
   "metadata": {},
   "outputs": [],
   "source": [
    "cities_to_remove =['Ajax','Ansnorveldt', 'Anthem', 'Beeton', 'Bolton', 'Bradford',  'Bradford West Gwillimbury',\\\n",
    "                 'Brampton','Bridgeville', 'Brooklin', 'Caledon', 'Caledon East','Canonsburg', 'Chardon','Clarkson','Concord','Coraopolis',  'East Ajax', 'East Gwilimbury', 'Gormley', 'Huntersville',\\\n",
    "                  'Kannapolis', 'Kent', 'King City', 'Kingussie','Kleinburg',  'Laval','Ludwigsburg',\\\n",
    "                  'Malton','Maple', 'Mentor-on-the-Lake', 'Midlothian','Missisauga', 'Mississauaga', 'Mississauga',\\\n",
    "                  'Nobleton', 'Oak Ridges', 'Oakridges', 'Oakville','Outremont','Painesville', 'Port Credit','Rantoul','River Drive Park', 'Russellton','Sainte-Julie','Schomberg','Scottsdale',\\\n",
    "                  'Stouffville','Stoughton', 'Streetsboro', 'Streetsville','Strongsville', 'Stuttgart',\\\n",
    "                 'Thornhil', 'Unionville', 'Vaughn City','WICKLIFFE', 'Waunakee','Whiitby', 'Whitby',\\\n",
    "                  'Whitchurch-Stouffville','Whtiby', 'Woodbridge', 'Woodbridge (Vaughan)','oakville']\n"
   ]
  },
  {
   "cell_type": "code",
   "execution_count": 10,
   "metadata": {},
   "outputs": [],
   "source": [
    "Yelp_data_v1 = Yelp_data"
   ]
  },
  {
   "cell_type": "code",
   "execution_count": 11,
   "metadata": {},
   "outputs": [],
   "source": [
    "Yelp_data_v1['int_lat'] = Yelp_data_v1['latitude']*(10**6)\n",
    "Yelp_data_v1['int_lat'] = Yelp_data_v1['int_lat'].astype(int)\n",
    "Yelp_data_v1['int_long'] = Yelp_data_v1['longitude']*-(10**6)\n",
    "Yelp_data_v1['int_long'] = Yelp_data_v1['int_long'].astype(int)"
   ]
  },
  {
   "cell_type": "markdown",
   "metadata": {},
   "source": [
    "#### Dinesafe ranges of long/lat"
   ]
  },
  {
   "cell_type": "code",
   "execution_count": 12,
   "metadata": {},
   "outputs": [],
   "source": [
    "ds_min_lat = np.min(dinesafe['int_lat'])"
   ]
  },
  {
   "cell_type": "code",
   "execution_count": 13,
   "metadata": {},
   "outputs": [],
   "source": [
    "ds_max_lat = np.max(dinesafe['int_lat'])"
   ]
  },
  {
   "cell_type": "code",
   "execution_count": 14,
   "metadata": {},
   "outputs": [],
   "source": [
    "ds_min_long = np.min(dinesafe['int_long'])"
   ]
  },
  {
   "cell_type": "code",
   "execution_count": 15,
   "metadata": {},
   "outputs": [],
   "source": [
    "ds_max_long = np.max(dinesafe['int_long'])"
   ]
  },
  {
   "cell_type": "markdown",
   "metadata": {},
   "source": [
    "#### Narrow down Yelp Data to contain businesses in Dinesafe Data"
   ]
  },
  {
   "cell_type": "code",
   "execution_count": null,
   "metadata": {},
   "outputs": [],
   "source": [
    "Yelp_data_v3 = Yelp_data_v1.copy()"
   ]
  },
  {
   "cell_type": "code",
   "execution_count": null,
   "metadata": {},
   "outputs": [],
   "source": [
    "Yelp_data_v2 = Yelp_data_v1.copy()"
   ]
  },
  {
   "cell_type": "code",
   "execution_count": null,
   "metadata": {},
   "outputs": [],
   "source": [
    "Yelp_data_v2 = Yelp_data_v2[(Yelp_data_v2['int_long'] >= ds_min_long) & (Yelp_data_v2['int_long'] <= ds_max_long)]"
   ]
  },
  {
   "cell_type": "code",
   "execution_count": null,
   "metadata": {},
   "outputs": [],
   "source": [
    "Yelp_data_v2 =Yelp_data_v2.reset_index()\n",
    "Yelp_data_v2['est_id'] =''\n",
    "tol = 1000"
   ]
  },
  {
   "cell_type": "markdown",
   "metadata": {},
   "source": [
    "### Find the same business in the two datasets, using location and Establishment Name"
   ]
  },
  {
   "cell_type": "code",
   "execution_count": null,
   "metadata": {},
   "outputs": [],
   "source": [
    "inds_yelp =[]\n",
    "inds_ds =[]\n",
    "for i in range(0,len(Yelp_data_v2)):\n",
    "    for  j  in range (0, len(dinesafe)):\n",
    "        if ( abs(Yelp_data_v2.loc[i, 'int_lat'] - dinesafe.loc[j, 'int_lat'] )< tol and\n",
    "            abs(Yelp_data_v2.loc[i, 'int_long'] - dinesafe.loc[j, 'int_long'] )<tol) and \\\n",
    "            Yelp_data_v2.loc[i,'name'][:5] == dinesafe.loc[j,'establishment_name'][:5] :\n",
    "            \n",
    "            Yelp_data_v2.loc[i,'est_id'] = dinesafe.loc[j,'establishment_id']\n",
    "            inds_yelp.append(i)\n",
    "            inds_ds.append(j)\n",
    "    if (i%1000==0):\n",
    "        print(i)"
   ]
  },
  {
   "cell_type": "code",
   "execution_count": null,
   "metadata": {},
   "outputs": [],
   "source": [
    "Yelp_data_v2['name'] =Yelp_data_v2['name'].str.lower()\n",
    "Yelp_data_v2['name'] =Yelp_data_v2['name'].str.strip()\n",
    "Yelp_data_v2['address'] =Yelp_data_v2['address'].str.strip()\n",
    "Yelp_data_v2['address'] =Yelp_data_v2['address'].str.lower()"
   ]
  },
  {
   "cell_type": "code",
   "execution_count": null,
   "metadata": {},
   "outputs": [],
   "source": [
    "Yelp_data.shape"
   ]
  },
  {
   "cell_type": "code",
   "execution_count": null,
   "metadata": {},
   "outputs": [],
   "source": [
    "Yelp_data_v2.to_csv('Yelp_data_w_est_id.csv')\n",
    "'../Data/dataFiles/Yelp_data_filt_v2.csv'"
   ]
  },
  {
   "cell_type": "code",
   "execution_count": null,
   "metadata": {},
   "outputs": [],
   "source": [
    "dinesafe_v2 = dinesafe.set_index('establishment_id')\n"
   ]
  },
  {
   "cell_type": "code",
   "execution_count": null,
   "metadata": {},
   "outputs": [],
   "source": []
  }
 ],
 "metadata": {
  "kernelspec": {
   "display_name": "Python 3",
   "language": "python",
   "name": "python3"
  },
  "language_info": {
   "codemirror_mode": {
    "name": "ipython",
    "version": 3
   },
   "file_extension": ".py",
   "mimetype": "text/x-python",
   "name": "python",
   "nbconvert_exporter": "python",
   "pygments_lexer": "ipython3",
   "version": "3.7.7"
  }
 },
 "nbformat": 4,
 "nbformat_minor": 2
}
