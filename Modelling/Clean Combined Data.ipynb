{
 "cells": [
  {
   "cell_type": "code",
   "execution_count": null,
   "metadata": {},
   "outputs": [],
   "source": [
    "import pandas as pd\n",
    "import numpy as np\n",
    "import datetime\n",
    "from sklearn.preprocessing import LabelEncoder"
   ]
  },
  {
   "cell_type": "code",
   "execution_count": null,
   "metadata": {},
   "outputs": [],
   "source": [
    "import os\n",
    "os.listdir('../Data/dataFiles/')"
   ]
  },
  {
   "cell_type": "code",
   "execution_count": null,
   "metadata": {},
   "outputs": [],
   "source": [
    "df = pd.read_csv('../Data/dataFiles/df_merged_v2.csv', index_col=0)"
   ]
  },
  {
   "cell_type": "code",
   "execution_count": null,
   "metadata": {},
   "outputs": [],
   "source": [
    "cols_2_drop =['Column','Unnamed: 0_x','action','court_outcome','establishment_address','establishment_status',\\\n",
    "             'inspection_id','long_lat_x','int_lat_x','int_long_x', 'int_long_lat_x',  'new_int_long', \\\n",
    "              'new_int_lat',  'level_0',  'index', 'Unnamed: 0_y', 'business_id', 'address', 'name',  'postal_code',\\\n",
    "              'state', 'long_lat_y', 'int_lat_y', 'int_long_y',  'int_long_lat_y', 'name_match', 'amount_fined',\\\n",
    "              'new_long_lat', 'latitude_y', 'longitude_y'\n",
    "             ]"
   ]
  },
  {
   "cell_type": "code",
   "execution_count": null,
   "metadata": {},
   "outputs": [],
   "source": [
    "def check_and_drop_cols(df, cols):\n",
    "    for i in cols:\n",
    "        if i in df.columns:\n",
    "            df = df.drop(i,axis =1)\n",
    "    return df"
   ]
  },
  {
   "cell_type": "code",
   "execution_count": null,
   "metadata": {},
   "outputs": [],
   "source": [
    "df.head(2)"
   ]
  },
  {
   "cell_type": "code",
   "execution_count": null,
   "metadata": {},
   "outputs": [],
   "source": [
    "df.shape"
   ]
  },
  {
   "cell_type": "code",
   "execution_count": null,
   "metadata": {},
   "outputs": [],
   "source": [
    "df = check_and_drop_cols(df, cols_2_drop)"
   ]
  },
  {
   "cell_type": "code",
   "execution_count": null,
   "metadata": {},
   "outputs": [],
   "source": [
    "df_v2 = df.copy()"
   ]
  },
  {
   "cell_type": "code",
   "execution_count": null,
   "metadata": {},
   "outputs": [],
   "source": [
    "df_v2.shape"
   ]
  },
  {
   "cell_type": "markdown",
   "metadata": {},
   "source": [
    "#### Get Open/Closing Times"
   ]
  },
  {
   "cell_type": "code",
   "execution_count": null,
   "metadata": {},
   "outputs": [],
   "source": [
    "days = ['Monday', 'Tuesday', 'Wednesday', 'Thursday', 'Friday', 'Saturday', 'Sunday']"
   ]
  },
  {
   "cell_type": "code",
   "execution_count": null,
   "metadata": {},
   "outputs": [],
   "source": [
    "for day in days:\n",
    "    open_col_name = day + ' Start_time'\n",
    "    close_time_col_name = day + ' Close_time'\n",
    "    col_name = 'hours.' + day\n",
    "    if col_name in df_v2.columns:\n",
    "        print(col_name)\n",
    "        df_v2[open_col_name] = df_v2[col_name].str[:2].str.replace(\":\", \" \")\n",
    "        df_v2[close_time_col_name]=df_v2[col_name].str[-5:].str.replace(\"-\",\" \").str[:2]\n"
   ]
  },
  {
   "cell_type": "code",
   "execution_count": null,
   "metadata": {},
   "outputs": [],
   "source": [
    "df_v2.shape"
   ]
  },
  {
   "cell_type": "code",
   "execution_count": null,
   "metadata": {},
   "outputs": [],
   "source": [
    "df_v2['inspection_date'] =pd.to_datetime(df_v2['inspection_date'], errors = 'coerce')\n",
    "df_v2['insp_day']=df_v2['inspection_date'].dt.day\n",
    "df_v2['insp_day_of_week']=df_v2['inspection_date'].dt.dayofweek\n"
   ]
  },
  {
   "cell_type": "code",
   "execution_count": null,
   "metadata": {},
   "outputs": [],
   "source": [
    "df_v3 = df_v2.copy()\n"
   ]
  },
  {
   "cell_type": "code",
   "execution_count": null,
   "metadata": {},
   "outputs": [],
   "source": [
    "cols_2_drop_new = ['establishment_name', 'infraction_details', 'categories']"
   ]
  },
  {
   "cell_type": "code",
   "execution_count": null,
   "metadata": {},
   "outputs": [],
   "source": [
    "df_v3 = check_and_drop_cols(df_v3, cols_2_drop_new)"
   ]
  },
  {
   "cell_type": "code",
   "execution_count": null,
   "metadata": {},
   "outputs": [],
   "source": [
    "df_v3['attributes.AcceptsInsurance']"
   ]
  },
  {
   "cell_type": "code",
   "execution_count": null,
   "metadata": {},
   "outputs": [],
   "source": [
    "for i in df_v3.columns:\n",
    "    a = pd.unique(df_v3[i])\n",
    "    if (0 in a and 1 in a):\n",
    "        print(f\"{i} {a}\")\n",
    "        # break\n",
    "        df_v3[i] = df_v3[i].fillna(value=0);"
   ]
  },
  {
   "cell_type": "markdown",
   "metadata": {},
   "source": [
    "### Dummy Variables"
   ]
  },
  {
   "cell_type": "code",
   "execution_count": null,
   "metadata": {},
   "outputs": [],
   "source": [
    "establishment_type_dummies = pd.get_dummies(df_v3['establishment_type'], prefix ='establishment_type')\n",
    "ages_allowed_dummies = pd.get_dummies(df_v3['attributes.AgesAllowed'], prefix ='ages_allowed')\n",
    "alcohol_dummies = pd.get_dummies(df_v3['attributes.Alcohol'], prefix ='Alcohol')\n",
    "Noise_lvl_dummies = pd.get_dummies(df_v3['attributes.NoiseLevel'], prefix ='Noise_lvl')\n",
    "attire_dummies = pd.get_dummies(df_v3['attributes.RestaurantsAttire'], prefix ='Attire')\n",
    "smoking_dummies =pd.get_dummies(df_v3['attributes.Smoking'], prefix ='Smoking')\n",
    "wifi_dummies = pd.get_dummies(df_v3['attributes.WiFi'], prefix ='WiFi')\n",
    "city_dummies = pd.get_dummies(df_v3['city'], prefix ='city')\n",
    "neighborhood_dummies = pd.get_dummies(df_v3['neighborhood'], prefix ='neighborhood')"
   ]
  },
  {
   "cell_type": "code",
   "execution_count": null,
   "metadata": {},
   "outputs": [],
   "source": [
    "df_v4 = df_v3.copy()\n",
    "\n",
    "df_v4['severity'] = df_v4['severity'].fillna(value='NA - Not Applicable')\n",
    "le = LabelEncoder()\n",
    "df_v4['label_severity']=le.fit_transform(df_v4.severity.values)\n",
    "\n"
   ]
  },
  {
   "cell_type": "markdown",
   "metadata": {},
   "source": [
    "#### Get rid of hours"
   ]
  },
  {
   "cell_type": "code",
   "execution_count": null,
   "metadata": {},
   "outputs": [],
   "source": [
    "cols_2_drop_3 =['hours.Friday','hours.Monday','hours.Saturday','hours.Sunday', \\\n",
    "              'hours.Thursday','hours.Tuesday','hours.Wednesday']\n",
    "df_v4 = check_and_drop_cols(df_v4, cols_2_drop_3)"
   ]
  },
  {
   "cell_type": "markdown",
   "metadata": {},
   "source": [
    "#### Convert opening/closing times to numeric"
   ]
  },
  {
   "cell_type": "code",
   "execution_count": null,
   "metadata": {},
   "outputs": [],
   "source": [
    "days"
   ]
  },
  {
   "cell_type": "code",
   "execution_count": null,
   "metadata": {},
   "outputs": [],
   "source": [
    "for day in days:\n",
    "    start_time_col_name = day + ' Start_time'\n",
    "    close_time_col_name = day + ' Close_time'\n",
    "    df_v4[start_time_col_name] = pd.to_numeric(df_v4[start_time_col_name], errors ='coerce')\n",
    "    df_v4[close_time_col_name] = pd.to_numeric(df_v4[close_time_col_name], errors ='coerce')\n"
   ]
  },
  {
   "cell_type": "code",
   "execution_count": null,
   "metadata": {},
   "outputs": [],
   "source": [
    "cols_2_drop_4 =['attributes.AgesAllowed','attributes.Alcohol','attributes.NoiseLevel','attributes.RestaurantsAttire', \\\n",
    "              'attributes.Smoking','attributes.WiFi','city','neighborhood', 'establishment_type']"
   ]
  },
  {
   "cell_type": "code",
   "execution_count": null,
   "metadata": {},
   "outputs": [],
   "source": [
    "df_v4 = check_and_drop_cols(df_v4, cols_2_drop_4)"
   ]
  },
  {
   "cell_type": "markdown",
   "metadata": {},
   "source": [
    "#### fill price range na with means"
   ]
  },
  {
   "cell_type": "code",
   "execution_count": null,
   "metadata": {},
   "outputs": [],
   "source": [
    "df_v4['attributes.RestaurantsPriceRange2'] = df['attributes.RestaurantsPriceRange2']\n",
    "df_v4['attributes.RestaurantsPriceRange2'] = df_v4['attributes.RestaurantsPriceRange2'].fillna(value=np.mean(df_v4['attributes.RestaurantsPriceRange2']));"
   ]
  },
  {
   "cell_type": "code",
   "execution_count": null,
   "metadata": {},
   "outputs": [],
   "source": [
    "start_days =['Monday Start_time', 'Tuesday Start_time', 'Wednesday Start_time',\n",
    "       'Thursday Start_time', 'Friday Start_time', 'Saturday Start_time',\n",
    "       'Sunday Start_time']"
   ]
  },
  {
   "cell_type": "code",
   "execution_count": null,
   "metadata": {},
   "outputs": [],
   "source": [
    "df_v4[start_days].describe()"
   ]
  },
  {
   "cell_type": "code",
   "execution_count": null,
   "metadata": {},
   "outputs": [],
   "source": [
    "df_v4[start_days] = df_v4[start_days].apply(lambda row: row.fillna(row.mean()), axis=1)\n",
    "\n"
   ]
  },
  {
   "cell_type": "code",
   "execution_count": null,
   "metadata": {},
   "outputs": [],
   "source": [
    "end_days =['Monday Close_time', 'Tuesday Close_time', 'Wednesday Close_time',\n",
    "       'Thursday Close_time', 'Friday Close_time', 'Saturday Close_time',\n",
    "       'Sunday Close_time']"
   ]
  },
  {
   "cell_type": "code",
   "execution_count": null,
   "metadata": {},
   "outputs": [],
   "source": [
    "df_v4[end_days] = df_v4[end_days].apply(lambda row: row.fillna(row.mean()), axis=1)\n"
   ]
  },
  {
   "cell_type": "code",
   "execution_count": null,
   "metadata": {},
   "outputs": [],
   "source": [
    "df_v5 = pd.concat([df_v4,establishment_type_dummies, ages_allowed_dummies, alcohol_dummies,\\\n",
    "                  Noise_lvl_dummies, attire_dummies, smoking_dummies, wifi_dummies, city_dummies, neighborhood_dummies], axis =1)\n"
   ]
  },
  {
   "cell_type": "code",
   "execution_count": null,
   "metadata": {},
   "outputs": [],
   "source": [
    "cols_2_drop_5 = df_v5.columns[df_v5.isna().any()].tolist()\n",
    "cols_2_drop_5"
   ]
  },
  {
   "cell_type": "code",
   "execution_count": null,
   "metadata": {},
   "outputs": [],
   "source": [
    "df_v5 = check_and_drop_cols(df_v5, cols_2_drop_5)"
   ]
  },
  {
   "cell_type": "code",
   "execution_count": null,
   "metadata": {},
   "outputs": [],
   "source": [
    "df_v5.shape"
   ]
  },
  {
   "cell_type": "code",
   "execution_count": null,
   "metadata": {},
   "outputs": [],
   "source": [
    "df_v5.columns"
   ]
  },
  {
   "cell_type": "code",
   "execution_count": null,
   "metadata": {},
   "outputs": [],
   "source": [
    "'establishment_type' in df_v4.columns"
   ]
  },
  {
   "cell_type": "code",
   "execution_count": null,
   "metadata": {},
   "outputs": [],
   "source": [
    "df_v5_exist = pd.read_csv('../Data/dataFiles/Cleaned_Data.csv', index_col=0)"
   ]
  },
  {
   "cell_type": "code",
   "execution_count": null,
   "metadata": {},
   "outputs": [],
   "source": [
    "df_v5_exist.shape"
   ]
  },
  {
   "cell_type": "code",
   "execution_count": null,
   "metadata": {},
   "outputs": [],
   "source": [
    "df_v4 = check_and_drop_cols(df_v4, cols_2_drop_5)\n",
    "df_v4.to_csv('Statistical_analysis_data_1.csv')"
   ]
  },
  {
   "cell_type": "code",
   "execution_count": null,
   "metadata": {},
   "outputs": [],
   "source": [
    "establishment_type_dummies"
   ]
  },
  {
   "cell_type": "code",
   "execution_count": null,
   "metadata": {},
   "outputs": [],
   "source": []
  }
 ],
 "metadata": {
  "kernelspec": {
   "display_name": "Python 3",
   "language": "python",
   "name": "python3"
  },
  "language_info": {
   "codemirror_mode": {
    "name": "ipython",
    "version": 3
   },
   "file_extension": ".py",
   "mimetype": "text/x-python",
   "name": "python",
   "nbconvert_exporter": "python",
   "pygments_lexer": "ipython3",
   "version": "3.7.7"
  }
 },
 "nbformat": 4,
 "nbformat_minor": 2
}
